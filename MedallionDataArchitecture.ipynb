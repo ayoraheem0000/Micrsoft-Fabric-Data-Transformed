{
  "nbformat": 4,
  "nbformat_minor": 0,
  "metadata": {
    "colab": {
      "provenance": [],
      "authorship_tag": "ABX9TyMlq7mk27r4f+jqhDsyPcbi",
      "include_colab_link": true
    },
    "kernelspec": {
      "name": "python3",
      "display_name": "Python 3"
    },
    "language_info": {
      "name": "python"
    }
  },
  "cells": [
    {
      "cell_type": "markdown",
      "metadata": {
        "id": "view-in-github",
        "colab_type": "text"
      },
      "source": [
        "<a href=\"https://colab.research.google.com/github/ayoraheem0000/Micrsoft-Fabric-Data-Transformed/blob/main/MedallionDataArchitecture.ipynb\" target=\"_parent\"><img src=\"https://colab.research.google.com/assets/colab-badge.svg\" alt=\"Open In Colab\"/></a>"
      ]
    },
    {
      "cell_type": "markdown",
      "source": [
        "Medallion Data Architecture with Google Cola**b**"
      ],
      "metadata": {
        "id": "J11zii2MFH_3"
      }
    },
    {
      "cell_type": "code",
      "source": [
        "# ================================\n",
        "# STEP 1: Install & Start Spark\n",
        "# ================================\n",
        "!pip install pyspark\n",
        "\n",
        "from pyspark.sql import SparkSession\n",
        "\n",
        "spark = SparkSession.builder \\\n",
        "    .appName(\"MedallionArchitecture\") \\\n",
        "    .getOrCreate()\n",
        "\n",
        "\n",
        "# ================================\n",
        "# STEP 2: Bronze Layer (Raw Data)\n",
        "# ================================\n",
        "# Define schema headers manually since CSVs have no header row\n",
        "columns = [\n",
        "    \"OrderNumber\",\n",
        "    \"OrderQty\",\n",
        "    \"OrderDate\",\n",
        "    \"CustomerName\",\n",
        "    \"CustomerEmail\",\n",
        "    \"ProductName\",\n",
        "    \"Quantity\",\n",
        "    \"UnitPrice\",\n",
        "    \"LineTotal\"\n",
        "]\n",
        "\n",
        "# Load multiple CSV files into one Bronze DataFrame\n",
        "bronze_df = spark.read.csv(\n",
        "    [\"/content/sample_data/Data/2019.csv\", \"/content/sample_data/Data/2020.csv\", \"/content/sample_data/Data/2021.csv\"],\n",
        "    header=False,\n",
        "    inferSchema=True\n",
        ").toDF(*columns)\n",
        "\n",
        "print(\"=== Bronze Layer Sample ===\")\n",
        "bronze_df.show(5)\n",
        "bronze_df.printSchema()"
      ],
      "metadata": {
        "colab": {
          "base_uri": "https://localhost:8080/"
        },
        "id": "Thb3nKu9D3uW",
        "outputId": "272b4510-0bdd-46a2-988c-f657621e8517"
      },
      "execution_count": 1,
      "outputs": [
        {
          "output_type": "stream",
          "name": "stdout",
          "text": [
            "Requirement already satisfied: pyspark in /usr/local/lib/python3.12/dist-packages (3.5.1)\n",
            "Requirement already satisfied: py4j==0.10.9.7 in /usr/local/lib/python3.12/dist-packages (from pyspark) (0.10.9.7)\n",
            "=== Bronze Layer Sample ===\n",
            "+-----------+--------+----------+--------------+--------------------+--------------------+--------+---------+---------+\n",
            "|OrderNumber|OrderQty| OrderDate|  CustomerName|       CustomerEmail|         ProductName|Quantity|UnitPrice|LineTotal|\n",
            "+-----------+--------+----------+--------------+--------------------+--------------------+--------+---------+---------+\n",
            "|    SO49171|       1|2021-01-01| Mariah Foster|mariah21@adventur...|  Road-250 Black, 48|       1|2181.5625|  174.525|\n",
            "|    SO49172|       1|2021-01-01|  Brian Howard|brian23@adventure...|    Road-250 Red, 44|       1|  2443.35|  195.468|\n",
            "|    SO49173|       1|2021-01-01| Linda Alvarez|linda19@adventure...|Mountain-200 Silv...|       1|2071.4196| 165.7136|\n",
            "|    SO49174|       1|2021-01-01|Gina Hernandez|gina4@adventure-w...|Mountain-200 Silv...|       1|2071.4196| 165.7136|\n",
            "|    SO49178|       1|2021-01-01|     Beth Ruiz|beth4@adventure-w...|Road-550-W Yellow...|       1|1000.4375|   80.035|\n",
            "+-----------+--------+----------+--------------+--------------------+--------------------+--------+---------+---------+\n",
            "only showing top 5 rows\n",
            "\n",
            "root\n",
            " |-- OrderNumber: string (nullable = true)\n",
            " |-- OrderQty: integer (nullable = true)\n",
            " |-- OrderDate: date (nullable = true)\n",
            " |-- CustomerName: string (nullable = true)\n",
            " |-- CustomerEmail: string (nullable = true)\n",
            " |-- ProductName: string (nullable = true)\n",
            " |-- Quantity: integer (nullable = true)\n",
            " |-- UnitPrice: double (nullable = true)\n",
            " |-- LineTotal: double (nullable = true)\n",
            "\n"
          ]
        }
      ]
    },
    {
      "cell_type": "code",
      "source": [
        "# ================================\n",
        "# STEP 3: Silver Layer (Clean & Transform)\n",
        "# ================================\n",
        "from pyspark.sql.functions import col, to_date\n",
        "from pyspark.sql.functions import split\n",
        "\n",
        "silver_df = bronze_df.dropna(subset=[\"OrderNumber\", \"OrderDate\", \"CustomerEmail\"]) \\\n",
        "    .withColumn(\"Quantity\", col(\"Quantity\").cast(\"double\")) \\\n",
        "    .withColumn(\"UnitPrice\", col(\"UnitPrice\").cast(\"double\")) \\\n",
        "    .withColumn(\"LineTotal\", col(\"LineTotal\").cast(\"double\")) \\\n",
        "    .withColumn(\"OrderDate\", to_date(col(\"OrderDate\"), \"yyyy-MM-dd\"))\n",
        "\n",
        "print(\"=== Silver Layer Sample ===\")\n",
        "\n",
        "silver_df.show(5)\n",
        "silver_df.printSchema()"
      ],
      "metadata": {
        "colab": {
          "base_uri": "https://localhost:8080/"
        },
        "id": "S8ejGUyNGagU",
        "outputId": "87c678cc-3583-486c-b07e-639a8bb84118"
      },
      "execution_count": 2,
      "outputs": [
        {
          "output_type": "stream",
          "name": "stdout",
          "text": [
            "=== Silver Layer Sample ===\n",
            "+-----------+--------+----------+--------------+--------------------+--------------------+--------+---------+---------+\n",
            "|OrderNumber|OrderQty| OrderDate|  CustomerName|       CustomerEmail|         ProductName|Quantity|UnitPrice|LineTotal|\n",
            "+-----------+--------+----------+--------------+--------------------+--------------------+--------+---------+---------+\n",
            "|    SO49171|       1|2021-01-01| Mariah Foster|mariah21@adventur...|  Road-250 Black, 48|     1.0|2181.5625|  174.525|\n",
            "|    SO49172|       1|2021-01-01|  Brian Howard|brian23@adventure...|    Road-250 Red, 44|     1.0|  2443.35|  195.468|\n",
            "|    SO49173|       1|2021-01-01| Linda Alvarez|linda19@adventure...|Mountain-200 Silv...|     1.0|2071.4196| 165.7136|\n",
            "|    SO49174|       1|2021-01-01|Gina Hernandez|gina4@adventure-w...|Mountain-200 Silv...|     1.0|2071.4196| 165.7136|\n",
            "|    SO49178|       1|2021-01-01|     Beth Ruiz|beth4@adventure-w...|Road-550-W Yellow...|     1.0|1000.4375|   80.035|\n",
            "+-----------+--------+----------+--------------+--------------------+--------------------+--------+---------+---------+\n",
            "only showing top 5 rows\n",
            "\n",
            "root\n",
            " |-- OrderNumber: string (nullable = true)\n",
            " |-- OrderQty: integer (nullable = true)\n",
            " |-- OrderDate: date (nullable = true)\n",
            " |-- CustomerName: string (nullable = true)\n",
            " |-- CustomerEmail: string (nullable = true)\n",
            " |-- ProductName: string (nullable = true)\n",
            " |-- Quantity: double (nullable = true)\n",
            " |-- UnitPrice: double (nullable = true)\n",
            " |-- LineTotal: double (nullable = true)\n",
            "\n"
          ]
        }
      ]
    },
    {
      "cell_type": "code",
      "source": [
        "\n",
        "# ================================\n",
        "# STEP 4: Gold Layer (Business-Ready Views)\n",
        "# ================================\n",
        "from pyspark.sql.functions import avg\n",
        "\n",
        "# Gold Orders (fact table)\n",
        "gold_orders = silver_df.select(\n",
        "    \"OrderNumber\", \"OrderDate\", \"CustomerName\", \"CustomerEmail\",\n",
        "    \"ProductName\", \"Quantity\", \"UnitPrice\", \"LineTotal\"\n",
        ")\n",
        "\n",
        "# Gold Customers (dimension table)\n",
        "gold_customers = silver_df.select(\n",
        "    \"CustomerName\", \"CustomerEmail\"\n",
        ").dropDuplicates()\n",
        "\n",
        "# Gold Products (dimension table)\n",
        "gold_products = silver_df.groupBy(\"ProductName\") \\\n",
        "    .agg(\n",
        "        avg(\"UnitPrice\").alias(\"AvgUnitPrice\")\n",
        "    )\n",
        "\n",
        "print(\"=== Gold Orders Sample ===\")\n",
        "gold_orders.show(5)\n",
        "\n",
        "print(\"=== Gold Customers Sample ===\")\n",
        "gold_customers.show(5)\n",
        "\n",
        "print(\"=== Gold Products Sample ===\")\n",
        "gold_products.show(5)"
      ],
      "metadata": {
        "colab": {
          "base_uri": "https://localhost:8080/"
        },
        "id": "uAmScwupHiFq",
        "outputId": "0d37097c-679b-4102-a37b-fd52d403b922"
      },
      "execution_count": 3,
      "outputs": [
        {
          "output_type": "stream",
          "name": "stdout",
          "text": [
            "=== Gold Orders Sample ===\n",
            "+-----------+----------+--------------+--------------------+--------------------+--------+---------+---------+\n",
            "|OrderNumber| OrderDate|  CustomerName|       CustomerEmail|         ProductName|Quantity|UnitPrice|LineTotal|\n",
            "+-----------+----------+--------------+--------------------+--------------------+--------+---------+---------+\n",
            "|    SO49171|2021-01-01| Mariah Foster|mariah21@adventur...|  Road-250 Black, 48|     1.0|2181.5625|  174.525|\n",
            "|    SO49172|2021-01-01|  Brian Howard|brian23@adventure...|    Road-250 Red, 44|     1.0|  2443.35|  195.468|\n",
            "|    SO49173|2021-01-01| Linda Alvarez|linda19@adventure...|Mountain-200 Silv...|     1.0|2071.4196| 165.7136|\n",
            "|    SO49174|2021-01-01|Gina Hernandez|gina4@adventure-w...|Mountain-200 Silv...|     1.0|2071.4196| 165.7136|\n",
            "|    SO49178|2021-01-01|     Beth Ruiz|beth4@adventure-w...|Road-550-W Yellow...|     1.0|1000.4375|   80.035|\n",
            "+-----------+----------+--------------+--------------------+--------------------+--------+---------+---------+\n",
            "only showing top 5 rows\n",
            "\n",
            "=== Gold Customers Sample ===\n",
            "+----------------+--------------------+\n",
            "|    CustomerName|       CustomerEmail|\n",
            "+----------------+--------------------+\n",
            "|Bridget Andersen|bridget15@adventu...|\n",
            "|      Mya Butler|mya14@adventure-w...|\n",
            "|Deanna Hernandez|deanna29@adventur...|\n",
            "|   Ricky Navarro|ricky10@adventure...|\n",
            "|         Omar Ye|omar9@adventure-w...|\n",
            "+----------------+--------------------+\n",
            "only showing top 5 rows\n",
            "\n",
            "=== Gold Products Sample ===\n",
            "+--------------------+------------------+\n",
            "|         ProductName|      AvgUnitPrice|\n",
            "+--------------------+------------------+\n",
            "|Mountain-200 Blac...|2176.4802922680383|\n",
            "|Touring-1000 Yell...|2384.0700000000043|\n",
            "|Touring-1000 Blue...| 2384.070000000004|\n",
            "|Short-Sleeve Clas...|53.989999999999824|\n",
            "|Women's Mountain ...| 69.98999999999984|\n",
            "+--------------------+------------------+\n",
            "only showing top 5 rows\n",
            "\n"
          ]
        }
      ]
    },
    {
      "cell_type": "code",
      "source": [
        "# ================================\n",
        "# STEP 5: Save Bronze, Silver, Gold Outputs\n",
        "# ================================\n",
        "bronze_df.write.mode(\"overwrite\").parquet(\"/content/bronze\")\n",
        "silver_df.write.mode(\"overwrite\").parquet(\"/content/silver\")\n",
        "gold_orders.write.mode(\"overwrite\").parquet(\"/content/gold_orders\")\n",
        "gold_customers.write.mode(\"overwrite\").parquet(\"/content/gold_customers\")\n",
        "gold_products.write.mode(\"overwrite\").parquet(\"/content/gold_products\")\n",
        "\n",
        "print(\"✅ Medallion pipeline completed and saved in /content/\")"
      ],
      "metadata": {
        "colab": {
          "base_uri": "https://localhost:8080/"
        },
        "id": "2tM78NTAIdMg",
        "outputId": "e46edae4-cf29-49e8-ca4b-251a23dcb646"
      },
      "execution_count": 4,
      "outputs": [
        {
          "output_type": "stream",
          "name": "stdout",
          "text": [
            "✅ Medallion pipeline completed and saved in /content/\n"
          ]
        }
      ]
    },
    {
      "cell_type": "code",
      "source": [
        "from pyspark.sql.functions import split\n",
        "\n",
        "# Split CustomerName into FirstName and LastName\n",
        "silver_df = silver_df \\\n",
        "    .withColumn(\"FirstName\", split(col(\"CustomerName\"), \" \").getItem(0)) \\\n",
        "    .withColumn(\"LastName\", split(col(\"CustomerName\"), \" \").getItem(1))\n"
      ],
      "metadata": {
        "id": "KUSnfGQcIoJP"
      },
      "execution_count": 5,
      "outputs": []
    },
    {
      "cell_type": "code",
      "source": [
        "# Gold Customers (dimension table with split names)\n",
        "gold_customers = silver_df.select(\n",
        "    \"FirstName\", \"LastName\", \"CustomerEmail\"\n",
        ").dropDuplicates()\n",
        "\n",
        "print(\"=== Gold Customers with First & Last Name ===\")\n",
        "gold_customers.show(5)\n"
      ],
      "metadata": {
        "colab": {
          "base_uri": "https://localhost:8080/"
        },
        "id": "ZMPKWfw8I4I-",
        "outputId": "168588cd-a258-46fa-9b29-0ff670f3734a"
      },
      "execution_count": 6,
      "outputs": [
        {
          "output_type": "stream",
          "name": "stdout",
          "text": [
            "=== Gold Customers with First & Last Name ===\n",
            "+---------+--------+--------------------+\n",
            "|FirstName|LastName|       CustomerEmail|\n",
            "+---------+--------+--------------------+\n",
            "|    Chloe|  Turner|chloe2@adventure-...|\n",
            "|   Walter| Navarro|walter3@adventure...|\n",
            "|   Morgan|    Long|morgan79@adventur...|\n",
            "|  Natalie|Gonzalez|natalie60@adventu...|\n",
            "|   Bianca|      Lu|bianca9@adventure...|\n",
            "+---------+--------+--------------------+\n",
            "only showing top 5 rows\n",
            "\n"
          ]
        }
      ]
    },
    {
      "cell_type": "code",
      "source": [
        "silver_df.write.mode(\"overwrite\").parquet(\"/content/silver\")\n",
        "gold_customers.write.mode(\"overwrite\").parquet(\"/content/gold_customers\")"
      ],
      "metadata": {
        "id": "VJr8fhgoJ0Hc"
      },
      "execution_count": 9,
      "outputs": []
    },
    {
      "cell_type": "code",
      "source": [
        "load_df = spark.read.parquet(\"/content/gold_customers\")\n",
        "\n",
        "print(\"=== Load Gold Customers Sample ===\")\n",
        "load_df.show(100)"
      ],
      "metadata": {
        "colab": {
          "base_uri": "https://localhost:8080/"
        },
        "id": "-rceai-rKaDu",
        "outputId": "3e0ec462-28e1-4df3-caa4-97dc74ca6a56"
      },
      "execution_count": 13,
      "outputs": [
        {
          "output_type": "stream",
          "name": "stdout",
          "text": [
            "=== Load Gold Customers Sample ===\n",
            "+-----------+---------+--------------------+\n",
            "|  FirstName| LastName|       CustomerEmail|\n",
            "+-----------+---------+--------------------+\n",
            "|      Chloe|   Turner|chloe2@adventure-...|\n",
            "|     Walter|  Navarro|walter3@adventure...|\n",
            "|     Morgan|     Long|morgan79@adventur...|\n",
            "|    Natalie| Gonzalez|natalie60@adventu...|\n",
            "|     Bianca|       Lu|bianca9@adventure...|\n",
            "|      Logan|  Jenkins|logan9@adventure-...|\n",
            "|   Samantha|   Martin|samantha16@advent...|\n",
            "|      Julia|  Simmons|julia81@adventure...|\n",
            "|      Molly|    Lopez|molly15@adventure...|\n",
            "|     Xavier|   Rogers|xavier87@adventur...|\n",
            "|    Abigail|    Smith|abigail47@adventu...|\n",
            "|       Tara|     Yuan|tara7@adventure-w...|\n",
            "|       Kate|     Yuan|kate5@adventure-w...|\n",
            "|   Terrance|    Lopez|terrance14@advent...|\n",
            "|      Colin|      She|colin23@adventure...|\n",
            "|     Steven|   Morgan|steven22@adventur...|\n",
            "|  Priscilla|     Raje|priscilla12@adven...|\n",
            "|       Seth|    Clark|seth18@adventure-...|\n",
            "|    Tiffany|    Zhang|tiffany0@adventur...|\n",
            "|   Kathleen|   Torres|kathleen14@advent...|\n",
            "|Christopher|    Smith|christopher24@adv...|\n",
            "|      Alexa|      Cox|alexa8@adventure-...|\n",
            "|    Spencer|Patterson|spencer12@adventu...|\n",
            "|      Sarah| Martinez|sarah19@adventure...|\n",
            "|    Orlando|  Jim�nez|orlando6@adventur...|\n",
            "|     Amanda|   Morgan|amanda4@adventure...|\n",
            "|     Andrea|  Edwards|andrea25@adventur...|\n",
            "|     Alexia|Alexander|alexia15@adventur...|\n",
            "|  Gabriella|    Green|gabriella38@adven...|\n",
            "|    Anthony|    Brown|anthony13@adventu...|\n",
            "|     Marcus| Thompson|marcus16@adventur...|\n",
            "|      Erica|      Liu|erica3@adventure-...|\n",
            "|      Julia|   Morris|julia48@adventure...|\n",
            "|      Ebony|   Moreno|ebony29@adventure...|\n",
            "|       John|    Brown|john42@adventure-...|\n",
            "|  Katherine|   Carter|katherine58@adven...|\n",
            "|    Jackson|    Lopez|jackson42@adventu...|\n",
            "|       Karl|     Goel|karl20@adventure-...|\n",
            "|     Morgan|    Price|morgan70@adventur...|\n",
            "|   Isabella|     Long|isabella20@advent...|\n",
            "|    Allison| Mitchell|allison34@adventu...|\n",
            "|     Hunter|    Hayes|hunter18@adventur...|\n",
            "|      Kevin|   Turner|kevin42@adventure...|\n",
            "|     Connor| Phillips|connor35@adventur...|\n",
            "|     Angela|     Reed|angela46@adventur...|\n",
            "|    Carolyn|   Prasad|carolyn9@adventur...|\n",
            "|      J�sus|Hernandez|j�sus4@adventure-...|\n",
            "|      Karla|   Chavez|karla16@adventure...|\n",
            "|     Alison|     Nath|alison19@adventur...|\n",
            "|    Brianna| McDonald|brianna55@adventu...|\n",
            "|     Jaclyn|      Guo|jaclyn19@adventur...|\n",
            "|    Kristin|      Rai|kristin16@adventu...|\n",
            "|     Joshua|    Lewis|joshua23@adventur...|\n",
            "|       Abby|Fernandez|abby13@adventure-...|\n",
            "|   Virginia|    Srini|virginia10@advent...|\n",
            "|       Emma|   Cooper|emma35@adventure-...|\n",
            "|   Veronica|     Arun|veronica7@adventu...|\n",
            "|      Megan| Williams|megan5@adventure-...|\n",
            "|     Angela|   Barnes|angela5@adventure...|\n",
            "|    Bradley|   Carson|bradley18@adventu...|\n",
            "|     Tyrone|    Ramos|tyrone16@adventur...|\n",
            "|     Bailey|  Stewart|bailey23@adventur...|\n",
            "|   Victoria|  Stewart|victoria24@advent...|\n",
            "|      Larry|   Suarez|larry21@adventure...|\n",
            "|       Noah| Gonzales|noah14@adventure-...|\n",
            "|      Janet|     Ruiz|janet7@adventure-...|\n",
            "|       Levi|    Weber|levi3@adventure-w...|\n",
            "|    Randall|   Torres|randall13@adventu...|\n",
            "|       Emma|   Foster|emma62@adventure-...|\n",
            "|     Donald|    Kov�r|donald6@adventure...|\n",
            "|      Dylan|    Zhang|dylan23@adventure...|\n",
            "|    Deborah|   Sharma|deborah14@adventu...|\n",
            "|       Cory|     Rana|cory9@adventure-w...|\n",
            "|       Eric|     Hill|eric54@adventure-...|\n",
            "|    Kristen|      Sun|kristen12@adventu...|\n",
            "|     Kellie|   Romero|kellie7@adventure...|\n",
            "|      Lance|    Ramos|lance17@adventure...|\n",
            "|    Yolanda|   Sharma|yolanda8@adventur...|\n",
            "|     Jordan|  Coleman|jordan2@adventure...|\n",
            "|     Kendra|    Rubio|kendra21@adventur...|\n",
            "|        Ian|     Ross|ian44@adventure-w...|\n",
            "|      Logan|    Brown|logan53@adventure...|\n",
            "|     Shelby|   Murphy|shelby15@adventur...|\n",
            "|      Gavin|   Butler|gavin13@adventure...|\n",
            "|      Kevin| Phillips|kevin43@adventure...|\n",
            "|     Eugene|      She|eugene26@adventur...|\n",
            "|      Emily|   Harris|emily14@adventure...|\n",
            "|    Kaitlyn|  Simmons|kaitlyn82@adventu...|\n",
            "|      Dylan|    Hayes|dylan22@adventure...|\n",
            "|     Thomas|     Diaz|thomas24@adventur...|\n",
            "|     Mariah|      Cox|mariah35@adventur...|\n",
            "|   Victoria|   Rivera|victoria34@advent...|\n",
            "|     Nelson|  Vazquez|nelson13@adventur...|\n",
            "|      Scott|  Rodgers|scott10@adventure...|\n",
            "|      Riley|    James|riley27@adventure...|\n",
            "|      Henry|   Nelson|henry23@adventure...|\n",
            "|      Karen|     Wang|karen11@adventure...|\n",
            "|     Hannah| Thompson|hannah13@adventur...|\n",
            "|   Victoria|   Torres|victoria40@advent...|\n",
            "|      Julio|Dominguez|julio13@adventure...|\n",
            "+-----------+---------+--------------------+\n",
            "only showing top 100 rows\n",
            "\n"
          ]
        }
      ]
    },
    {
      "cell_type": "code",
      "source": [
        "gold_products = spark.read.parquet(\"/content/gold_products\")\n",
        "\n",
        "print(\"=== Gold Products Sample ===\")\n",
        "gold_products.show(5)\n",
        "\n"
      ],
      "metadata": {
        "colab": {
          "base_uri": "https://localhost:8080/"
        },
        "id": "aR8WMHwnK7OF",
        "outputId": "9f7bac7e-e3dc-4f6d-ead0-40d6da1c9f26"
      },
      "execution_count": 18,
      "outputs": [
        {
          "output_type": "stream",
          "name": "stdout",
          "text": [
            "=== Gold Products Sample ===\n",
            "+--------------------+------------------+\n",
            "|         ProductName|      AvgUnitPrice|\n",
            "+--------------------+------------------+\n",
            "|Mountain-200 Blac...|2176.4802922680383|\n",
            "|Touring-1000 Yell...|2384.0700000000043|\n",
            "|Touring-1000 Blue...| 2384.070000000004|\n",
            "|Short-Sleeve Clas...|53.989999999999824|\n",
            "|Women's Mountain ...| 69.98999999999984|\n",
            "+--------------------+------------------+\n",
            "only showing top 5 rows\n",
            "\n"
          ]
        }
      ]
    },
    {
      "cell_type": "code",
      "source": [],
      "metadata": {
        "id": "9LCQro06M_4U"
      },
      "execution_count": null,
      "outputs": []
    }
  ]
}